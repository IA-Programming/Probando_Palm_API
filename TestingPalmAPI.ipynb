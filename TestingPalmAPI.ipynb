{
  "nbformat": 4,
  "nbformat_minor": 0,
  "metadata": {
    "colab": {
      "provenance": [],
      "authorship_tag": "ABX9TyNDkU0I/9baFZp5pavFkVPM"
    },
    "kernelspec": {
      "name": "python3",
      "display_name": "Python 3"
    },
    "language_info": {
      "name": "python"
    }
  },
  "cells": [
    {
      "cell_type": "markdown",
      "source": [
        "#Installing Packages"
      ],
      "metadata": {
        "id": "1ErSZkQ2UvGA"
      }
    },
    {
      "cell_type": "code",
      "execution_count": 3,
      "metadata": {
        "colab": {
          "base_uri": "https://localhost:8080/"
        },
        "id": "FdrhQvs3UiIb",
        "outputId": "db48fef8-399d-41f7-a4fe-f4025c7b419f"
      },
      "outputs": [
        {
          "output_type": "stream",
          "name": "stdout",
          "text": [
            "\u001b[2K     \u001b[90m━━━━━━━━━━━━━━━━━━━━━━━━━━━━━━━━━━━━━━━\u001b[0m \u001b[32m122.9/122.9 kB\u001b[0m \u001b[31m1.9 MB/s\u001b[0m eta \u001b[36m0:00:00\u001b[0m\n",
            "\u001b[2K     \u001b[90m━━━━━━━━━━━━━━━━━━━━━━━━━━━━━━━━━━━━━━━\u001b[0m \u001b[32m113.3/113.3 kB\u001b[0m \u001b[31m9.6 MB/s\u001b[0m eta \u001b[36m0:00:00\u001b[0m\n",
            "\u001b[?25h"
          ]
        }
      ],
      "source": [
        "!pip install -q google-generativeai"
      ]
    },
    {
      "cell_type": "markdown",
      "source": [
        "#Import packages"
      ],
      "metadata": {
        "id": "2u7kYYjVU5TQ"
      }
    },
    {
      "cell_type": "code",
      "source": [
        "import pprint\n",
        "import google.generativeai as palm\n",
        "import numpy as np\n",
        "from getpass import getpass"
      ],
      "metadata": {
        "id": "ORaeas30U9j9"
      },
      "execution_count": 6,
      "outputs": []
    },
    {
      "cell_type": "markdown",
      "source": [
        "#Set API KEY"
      ],
      "metadata": {
        "id": "3ZgWhvW6U-WK"
      }
    },
    {
      "cell_type": "code",
      "source": [
        "palm.configure(api_key=getpass(\"your API KEY: \"))"
      ],
      "metadata": {
        "colab": {
          "base_uri": "https://localhost:8080/"
        },
        "id": "E2Lj5rHwVBOm",
        "outputId": "80227ec2-f657-4278-fced-ad4e783a2099"
      },
      "execution_count": 7,
      "outputs": [
        {
          "name": "stdout",
          "output_type": "stream",
          "text": [
            "your API KEY: ··········\n"
          ]
        }
      ]
    },
    {
      "cell_type": "markdown",
      "source": [
        "#Check models"
      ],
      "metadata": {
        "id": "vVpFf3SxVDeR"
      }
    },
    {
      "cell_type": "code",
      "source": [
        "models = [m for m in palm.list_models() if 'generateText' in m.supported_generation_methods]\n",
        "model = models[0].name\n",
        "print(model)"
      ],
      "metadata": {
        "colab": {
          "base_uri": "https://localhost:8080/"
        },
        "id": "TutmdJLBVHwM",
        "outputId": "19d1ebc1-2e0e-4b29-8ac3-528a5c658fcd"
      },
      "execution_count": 8,
      "outputs": [
        {
          "output_type": "stream",
          "name": "stdout",
          "text": [
            "models/text-bison-001\n"
          ]
        }
      ]
    },
    {
      "cell_type": "code",
      "source": [
        "for m in palm.list_models():\n",
        "  print(m.name, '---------------->', m.supported_generation_methods)"
      ],
      "metadata": {
        "colab": {
          "base_uri": "https://localhost:8080/"
        },
        "id": "LS28oLXFVG0D",
        "outputId": "75224c99-862c-4b60-a54b-1df324761708"
      },
      "execution_count": 9,
      "outputs": [
        {
          "output_type": "stream",
          "name": "stdout",
          "text": [
            "models/chat-bison-001 ----------------> ['generateMessage', 'countMessageTokens']\n",
            "models/text-bison-001 ----------------> ['generateText', 'countTextTokens']\n",
            "models/embedding-gecko-001 ----------------> ['embedText']\n"
          ]
        }
      ]
    },
    {
      "cell_type": "markdown",
      "source": [
        "#Text Generation"
      ],
      "metadata": {
        "id": "5kMSG-hGVI49"
      }
    },
    {
      "cell_type": "code",
      "source": [
        "prompt = \"\"\"\n",
        "Complete this sentence, an apple a day...\n",
        "\"\"\"\n",
        "model = \"models/text-bison-001\"\n",
        "max_output_tokens=100\n",
        "temperature = 1.0\n",
        "\n",
        "completion = palm.generate_text(\n",
        "    model=model,\n",
        "    prompt=prompt,\n",
        "    temperature=temperature,\n",
        "    max_output_tokens=max_output_tokens,\n",
        "    candidate_count=2\n",
        ")\n",
        "\n",
        "print(completion.result)"
      ],
      "metadata": {
        "colab": {
          "base_uri": "https://localhost:8080/"
        },
        "id": "0U8J6NqIVNFH",
        "outputId": "577f5e40-2464-4dbf-e3a3-3bf018b47e3f"
      },
      "execution_count": 10,
      "outputs": [
        {
          "output_type": "stream",
          "name": "stdout",
          "text": [
            "...keeps the doctor away.\n"
          ]
        }
      ]
    },
    {
      "cell_type": "code",
      "source": [
        "print('Candidate 1:', completion.candidates[0]['output'])\n",
        "print('Candidate 2:', completion.candidates[1]['output'])"
      ],
      "metadata": {
        "colab": {
          "base_uri": "https://localhost:8080/"
        },
        "id": "LbUikmQOWVV4",
        "outputId": "3325199f-963b-47c1-971a-c24e94dc5722"
      },
      "execution_count": 11,
      "outputs": [
        {
          "output_type": "stream",
          "name": "stdout",
          "text": [
            "Candidate 1: ...keeps the doctor away.\n",
            "Candidate 2: keeps the doctor away.\n"
          ]
        }
      ]
    },
    {
      "cell_type": "markdown",
      "source": [
        "#Chat"
      ],
      "metadata": {
        "id": "bIFF96D5XhMW"
      }
    },
    {
      "cell_type": "code",
      "source": [
        "# Create a new conversation\n",
        "response = palm.chat(prompt='Hello')\n",
        "\n",
        "# Last contains the model's response:\n",
        "pprint.pprint(response.last)"
      ],
      "metadata": {
        "colab": {
          "base_uri": "https://localhost:8080/"
        },
        "id": "-OsppcC6XrLj",
        "outputId": "6d543ae3-8f8b-4be5-b446-76fd9d8b49f5"
      },
      "execution_count": 12,
      "outputs": [
        {
          "output_type": "stream",
          "name": "stdout",
          "text": [
            "'Hello! How can I help you today?'\n"
          ]
        }
      ]
    },
    {
      "cell_type": "markdown",
      "source": [
        "## Adding to existing conversation"
      ],
      "metadata": {
        "id": "lry8cikEYTPL"
      }
    },
    {
      "cell_type": "code",
      "source": [
        "# Add to the existing converstaion by sending a reply\n",
        "response = response.reply(\"Who is the president of USA\")\n",
        "# See the model's latest response in the 'last' field:\n",
        "response.last"
      ],
      "metadata": {
        "colab": {
          "base_uri": "https://localhost:8080/",
          "height": 53
        },
        "id": "t8MC2gdgYTit",
        "outputId": "8b3730d0-4121-4b66-c4a2-24f90e54f634"
      },
      "execution_count": 13,
      "outputs": [
        {
          "output_type": "execute_result",
          "data": {
            "text/plain": [
              "'The current president of the United States is Joe Biden. He is the 46th and current president of the United States. He was born on November 20, 1942, in Scranton, Pennsylvania. He is a member of the Democratic Party. He was elected president in 2020 and took office on January 20, 2021.'"
            ],
            "application/vnd.google.colaboratory.intrinsic+json": {
              "type": "string"
            }
          },
          "metadata": {},
          "execution_count": 13
        }
      ]
    },
    {
      "cell_type": "code",
      "source": [
        "# Add to the existing conversation by sending a reply\n",
        "response = response.reply(\"Does he have a wife or kids?\")\n",
        "# See the model's latest response in the 'last' field:\n",
        "print(response.last)"
      ],
      "metadata": {
        "colab": {
          "base_uri": "https://localhost:8080/"
        },
        "id": "3XkTV1J_ZPRU",
        "outputId": "6b420ff4-6199-4cdd-fbce-fca649bf88ab"
      },
      "execution_count": 14,
      "outputs": [
        {
          "output_type": "stream",
          "name": "stdout",
          "text": [
            "Joe Biden has been married to Jill Tracy Biden since 1977. They have one daughter together, Ashley Biden. Joe Biden also has two sons from his first marriage to Neilia Hunter, Joseph III (\"Beau\") and Hunter. Beau died of brain cancer in 2015. Hunter is a lawyer and businessman.\n"
          ]
        }
      ]
    },
    {
      "cell_type": "markdown",
      "source": [
        "#Word embeddings"
      ],
      "metadata": {
        "id": "Qq1q6M42YTu7"
      }
    },
    {
      "cell_type": "markdown",
      "source": [
        "## What can you do with embeddings?\n",
        "But what can you do with list of floating point values? Embeddings can be used for a wide variety of narural language processing (NLP)\n",
        "task, including:\n",
        "\n",
        "Search(documents, web, etc.) Recommendation systems Clustering Sentiment analysis/text classification"
      ],
      "metadata": {
        "id": "9rG37M2TYT4x"
      }
    },
    {
      "cell_type": "code",
      "source": [
        "x = 'What do squirrels eat?'\n",
        "\n",
        "close_to_x = 'nuts'\n",
        "\n",
        "different_from_x = 'This morning I woke up in San Francisco, and took a walk to the Bay Bridge. It was a good, sunny morning with no fog.'\n",
        "\n",
        "model = \"models/embedding-gecko-001\"\n",
        "\n",
        "# Create an embedding\n",
        "embedding_x = palm.generate_embeddings(model=model, text=x)\n",
        "embedding_close_to_x = palm.generate_embeddings(model=model, text=close_to_x)\n",
        "embedding_different_from_x = palm.generate_embeddings(model=model, text=different_from_x)"
      ],
      "metadata": {
        "id": "adMy-fkEavnm"
      },
      "execution_count": 15,
      "outputs": []
    },
    {
      "cell_type": "code",
      "source": [
        "print(embedding_x)"
      ],
      "metadata": {
        "colab": {
          "base_uri": "https://localhost:8080/"
        },
        "id": "bkO6nU9Fb_To",
        "outputId": "460d8644-0094-4dff-9379-33ab47d2f1c3"
      },
      "execution_count": 16,
      "outputs": [
        {
          "output_type": "stream",
          "name": "stdout",
          "text": [
            "{'embedding': [-0.025894871, -0.021033963, 0.0035749928, 0.008222881, 0.03276648, -0.10068223, -0.03770255, 0.01079403, 0.000140624, -0.029412385, 0.019199245, 0.0048481016, 0.070619866, -0.01334989, 0.028378604, -0.018658886, -0.038629908, 0.056883126, 0.063323654, 0.039849922, -0.085393265, -0.016251812, -0.025535947, 0.004948033, 0.04858148, -0.11295682, 0.03386994, 0.015498764, -0.07306242, 0.00085789536, -0.022031784, -0.0052989395, -0.08311722, -0.02709176, 0.042790357, 0.023175262, 0.0112389885, -0.024329238, -0.0044626985, 0.05167071, 0.023430848, 0.02732517, -0.014923886, -0.01877072, -0.0037836903, 0.040971957, -0.04465288, 0.0332203, -0.056597434, -0.055191413, -0.0023204584, -0.043687623, 0.030044463, -0.015966715, -0.04318426, 0.01573578, -0.03835268, -0.0050097313, -0.03289721, 0.016246213, -0.0056963954, -0.0010992853, -0.02768714, -0.035349943, -0.0459705, 0.05784305, -0.026696423, -0.013302217, 0.007055761, -0.058859013, 0.033301126, 0.04399591, 0.02075556, 0.0028288588, 0.0373331, 0.01035954, -0.019429643, 0.033088192, 0.009558322, -0.06524442, -0.07101354, -0.053975347, -0.0039529386, -0.11641812, -0.03948837, -0.003378282, -0.017735159, 0.031987358, 0.014555726, 0.050724596, -0.07849815, -0.007043671, 0.017992217, -0.003975656, -0.003965057, 0.08063971, -0.011685767, -0.018323967, 0.007763522, 0.012011535, 0.028457751, -0.099603206, 0.0328822, 0.0063217347, 0.051288053, 0.060445003, -0.007725887, -0.0033487657, -0.026970377, -0.04471915, 0.014793466, 0.0029390636, -0.043657325, -0.036976494, 0.05571355, -0.03422859, 0.05610819, 0.0016565458, 0.06461147, 0.012197698, -0.029221233, 0.015400642, 0.009992719, -0.012694915, 0.027302667, 0.04309881, 0.013308773, -0.034253325, -0.028620962, 0.0032988628, 0.008901493, 0.005103348, 0.086938314, -0.035939544, -0.00014025549, -0.0021354058, 0.043875773, -0.057092454, 0.004803227, 0.04456835, -0.013373616, 0.018620199, -0.00375252, 0.018113593, -0.0024051773, -0.006519982, 0.0434265, -0.028869089, -0.07003764, -0.02704304, -0.04767437, -0.03656646, -0.029664693, 0.054604772, 0.05645902, 0.016209828, 0.065883346, 0.07294827, -0.07351654, -0.050156996, 0.05211484, -0.023020329, 0.022877777, 0.01355375, -0.019406103, -0.0058154585, 0.0373227, 0.005268551, 0.021647887, -0.019631771, -0.01571936, -0.06862338, 0.021698158, -0.0137818325, 0.069550164, -0.023942512, -0.018029014, -0.018007768, -0.0059923534, -0.027717339, -0.001950715, -0.06961951, 0.054189045, 0.0021985532, -0.011325575, 0.015128107, 0.01542462, -0.038302787, -0.038970694, 0.04426809, 0.015156804, 0.030262467, -0.0010455127, -0.03217523, -0.033575423, -9.529959e-05, 0.06202827, -0.10134924, -0.009874221, 0.051682726, -0.022124728, 0.010147167, -0.0121855475, 0.037313815, -0.0005943806, -0.017981032, -0.070909515, 0.026052335, 0.06992509, 0.026033424, -0.023944099, -0.047794044, 0.020404303, 0.025562085, -0.01985736, -0.027300185, 0.029983347, -0.0821883, -0.018791715, -0.004772285, -0.024901018, -0.010111941, 0.050968856, 0.029660476, 3.4717825e-05, -0.017517656, 0.023977738, 0.022549665, 0.04181301, 0.0075005647, -0.0019229064, 0.023285724, -0.010899092, -0.004949612, -0.012531903, 0.041027624, -0.00462034, -0.013926484, -0.020054536, 0.026111234, -0.062329423, 0.09978252, -0.044156667, 0.061204664, 0.007044644, -0.0027112772, 0.046202265, 0.0061349035, 0.039831944, -0.009853767, 0.01376318, -0.070857346, 0.009606737, -0.008636414, 0.050337076, 0.04528421, -0.003271067, -0.016086243, 0.0083868075, -0.007903437, 0.03508849, 0.0025110866, 0.04684593, 0.12780859, -0.038998652, -0.029157333, -0.029113598, 0.0074333525, 0.055326972, -0.034412585, -0.00013684246, -0.020530462, 0.06506163, 0.0019480567, 0.0030335463, -0.018495142, -0.054084033, 0.023021376, -0.010500293, -0.007759436, -0.020039978, -0.017755097, 0.00067667576, 0.014525479, -0.026014434, 0.0024745855, -0.02717392, 0.0093613025, 0.005808786, 0.00069985044, 0.04791365, -0.043685965, -0.015235593, 0.006959536, 0.009612963, -0.0009247096, 0.03361978, -0.0064969766, -0.047667205, 0.0391879, -0.010284177, -0.006610168, -0.0020641836, -0.054403454, -0.007050973, -0.015853178, -0.03174128, -0.021723853, 0.030216578, -0.0012069813, 0.050265886, 0.045106, -0.024716273, -0.05543306, -0.06419837, -0.014273426, -0.02370334, 0.0017521781, -0.05614919, 0.0069642677, 0.0065768384, 0.03525583, 0.03902322, 0.01640373, 0.02505178, 0.00695039, -0.055799965, 0.013183736, 0.08474834, -0.012680079, 0.0041794735, 0.023558963, -0.07197163, 0.024911461, -0.01876665, 0.025204342, 0.004806642, 0.04904056, 0.016669532, -0.037882168, -0.021643393, 0.0053031733, -0.031009668, -0.016543044, -0.020345991, -0.005761679, -0.0743119, -0.02601627, -0.02327138, -0.07075993, -0.0029876104, 0.0066218534, -0.06109171, 0.032953493, 0.03662513, 0.0102901235, 0.054183125, -0.03828875, 0.03312786, -0.014862631, -0.03720938, 0.018570531, -0.02074224, 0.04802698, 0.0054383283, 0.020241426, -0.04405181, 0.030792724, 0.03395876, -0.023588259, 0.03765852, 0.010072953, 0.0064869327, 0.019048402, -0.069198176, -0.017083941, -0.016801478, 0.0027415913, 0.0081722755, 0.0019755254, -0.057162683, -0.005394635, 0.0014972503, -0.033361986, -0.0033606584, 0.032426648, 0.07254494, 0.022799492, -0.046871357, -0.06308127, 0.029209439, 0.01134149, 0.032790344, -0.02007303, -0.004409368, 0.0829204, -0.031405564, 0.009308279, -0.004211375, -0.05244417, 0.018087396, 0.008575956, -0.0013550716, -0.071860425, 0.02837243, 0.024996126, 0.027749, 0.016944509, -0.014632978, -0.06674174, -0.043031745, -0.04413758, 0.03530514, 0.030504202, 0.060496386, -0.06423887, 0.012235536, -0.05830343, -0.01586873, 0.04186105, 0.027080603, -0.014182993, -0.028095998, 0.0016349262, 0.010679885, 0.048808612, -0.058294244, -0.010633064, -0.056791265, -0.027161643, -0.030019993, -0.010299285, -0.038218226, -0.016588317, -0.0059704306, -0.053497776, 0.056619115, 0.0050102673, -0.020186694, -0.03151958, -0.07490499, 0.045715276, -0.037471525, 0.029025434, 0.015007149, -0.01799195, 0.007956427, -0.028715475, -0.01878828, -0.041037176, 0.012932908, -0.007246393, -0.004651031, 0.0520941, 0.04721456, -0.05604256, 0.0061242874, -0.06112983, -0.028900363, -0.0033062417, -0.016411358, -0.03985707, -0.005927899, 0.027991276, -0.034023546, 0.0023991668, 0.020010024, 0.014298014, 0.017212953, 0.0026526528, -0.08308303, 0.01726592, 0.01384552, 0.0065021426, 0.036473297, 0.020361774, 0.09685079, 0.04039578, 0.016480403, -0.083298355, -0.065900676, 0.0001286082, -0.055775307, 0.0065172254, -0.018937778, -0.021399701, 0.00045600644, -0.009761386, -0.0032396012, 0.004142928, 0.059930302, -0.016564654, 0.018544743, -0.032329146, 0.006037773, -0.06402926, 0.057614833, -0.02093143, 0.018229363, 0.024098344, 0.025045563, -0.00945166, -0.01025951, 0.006660358, -0.029620942, -0.034955457, -0.06783166, -0.031938594, -0.042619534, 0.02787831, 0.023951616, 0.01635402, -0.00153107, -0.057851825, -0.048688278, -0.06779812, -0.09212996, 0.043552887, 0.026341975, 0.04593375, -0.012108332, -0.01738154, 0.012251425, 0.035591044, 0.0502422, 0.056855064, 0.010133644, -0.009532219, -0.05425156, 0.034745548, 0.020292252, 0.033525903, -0.040225316, -0.00015250099, -0.078061, 0.0075722504, 0.015309744, 0.022623317, 0.065368235, 0.06423244, -0.015577341, -0.048137955, -0.013913103, 0.020742543, 0.060864896, -0.05662343, 0.057601452, -1.6566964e-05, 0.010925778, 0.0036125667, 0.032784764, -0.080131896, -0.048450164, 0.06296668, 0.029892884, -0.011754731, -0.00100665, -0.054419737, -0.017106231, -0.042856824, -0.005424765, -0.028312044, -0.0022843073, -0.020289076, -0.007416973, 0.016722953, 0.033435877, -0.049168676, 0.0038286438, 0.043084797, -0.011436931, -0.017679026, -0.012748324, -0.015104219, 0.008225342, -0.005965195, -0.010827807, -0.015990732, 0.03193361, 0.018625757, -0.013171724, 0.007987762, -0.018449493, 0.041906953, -0.020788718, 0.034040056, -0.000860824, -0.0077715567, 0.023855729, -0.0029571042, -0.008528541, -0.0556957, -0.005321177, -0.018151486, -0.011129989, -0.051835105, 0.0053123133, 0.009127996, -0.011530384, 0.00963171, 0.0041047893, -0.035371087, 0.052883077, -0.015326758, 0.030402342, 0.00873103, -0.004413188, 0.019502029, 0.01406499, 0.031413365, 0.01804187, 0.05942752, 0.048374876, -0.01992844, -0.0045596245, 0.02196242, -0.0856755, -0.007796496, 0.03352003, 0.009779216, 0.05753526, 0.010492752, -0.039363433, -0.103733934, -0.024229616, 0.006216248, -0.017748237, 0.0051229517, -0.055344902, -0.010650972, 0.030938895, -0.073542334, -0.014872007, -0.0030819532, 0.016437914, -0.0040901243, 0.0018574656, 0.033318345, 0.0058157477, 0.022556614, 0.076257005, -0.006559388, -0.026774084, -0.01683979, 0.008689687, -0.0151846465, 0.0073800134, -0.01849934, -0.03608093, 0.05340657, 0.01594491, -0.014478417, -0.021485219, -0.018035406, -0.03814742, 0.014293587, -0.021055875, 0.031431403, -0.07782329, 0.015536578, -0.031045694, 0.05943465, -0.020065695, 0.05275458, -0.083800405, 0.06855744, 0.012167182, -0.015827801, 0.043801714, 0.020258594, -0.05816931, -0.044358734, -0.013054302, -0.041333176, -0.02302342, 0.02914075, 0.008123609, 0.03369097, -0.00308921, 0.052916348, -0.048350755, -0.010181856, -0.05420185, -0.033779036, 0.026381416, -0.028346054, -0.02331669, -0.005781758, 0.012981267, -0.005527979, 0.010089176, -0.044895176, -0.024379173, 0.007590703, -0.025511196, -0.06555892, 0.008145539, 0.021736145, -0.033178225, 0.026871514, -0.056374058, -0.03088523, 0.014512168, -0.0080246655, 0.026689189, 0.0041089333, -0.04103957, 0.008003176, -0.0030232216, -0.036158, 0.04256501, -0.00016817736, 0.011733645, 0.025762333, -0.01092103, -0.0010622335, -0.07185124, 0.029530823, 0.009698984, 0.011916082, 0.0022654547, 0.07175238, 0.029233105, -0.020834869, -0.0524427, 0.011248312, 0.005422926, 0.018166015, 0.047227502, -0.013550261, 0.035074297, -0.010435111, 0.047774173, 0.021216918, -0.0026447426, -0.021085298, 0.013272347, -0.013380501, 0.02943836, -0.032338668, 0.0021435444, -0.016289461, -0.013629227, -0.038402162, 0.06655019, 0.009643845, 0.025085986, -0.018909352, -0.011246174, -0.052545544, -0.067764856, -0.029318614, 0.014850464, 0.029691916, -0.040905934, 0.054420393, 0.01552631, 0.029125493, -0.0020693608, 0.038805272, -0.009980784, 0.031122748, -0.055620622, 0.021108225, 0.01032038, 0.044171233, 0.009732269, -0.0011330073]}\n"
          ]
        }
      ]
    },
    {
      "cell_type": "code",
      "source": [
        "print(len(embedding_x['embedding']))"
      ],
      "metadata": {
        "colab": {
          "base_uri": "https://localhost:8080/"
        },
        "id": "6f4NqYZIh3xJ",
        "outputId": "80bf04a0-208a-4ab7-ac41-c24d34939ea3"
      },
      "execution_count": 18,
      "outputs": [
        {
          "output_type": "stream",
          "name": "stdout",
          "text": [
            "768\n"
          ]
        }
      ]
    },
    {
      "cell_type": "markdown",
      "source": [
        "Now that you have created the embeddings, let's use the dot product to see how related close_to_x and different_from_x are to x. The dot\n",
        "product returns a value between -1 and 1, and represents how closely two vectors align in terms of what direction they point in. The closer the\n",
        "value is to 0, the less similar to objects (in this case, two strings) are. The closer the value is to 1, the more similar they are."
      ],
      "metadata": {
        "id": "jTzjAl-7cGeV"
      }
    },
    {
      "cell_type": "code",
      "source": [
        "similar_measure = np.dot(embedding_x['embedding'], embedding_close_to_x['embedding'])"
      ],
      "metadata": {
        "id": "xZNu_wmZdpoB"
      },
      "execution_count": 25,
      "outputs": []
    },
    {
      "cell_type": "code",
      "source": [
        "print(similar_measure)"
      ],
      "metadata": {
        "colab": {
          "base_uri": "https://localhost:8080/"
        },
        "id": "4g_Pk2xaijBL",
        "outputId": "e5f09ca5-0ffb-458d-9f67-a90fa998beb5"
      },
      "execution_count": 26,
      "outputs": [
        {
          "output_type": "stream",
          "name": "stdout",
          "text": [
            "0.6929858887336946\n"
          ]
        }
      ]
    },
    {
      "cell_type": "code",
      "source": [
        "print(similar_measure)"
      ],
      "metadata": {
        "colab": {
          "base_uri": "https://localhost:8080/"
        },
        "id": "kFK59UfYiWRn",
        "outputId": "fc6a92a0-e4e4-43dc-a5ac-af9a824ea4af"
      },
      "execution_count": 24,
      "outputs": [
        {
          "output_type": "stream",
          "name": "stdout",
          "text": [
            "0.9999996195859966\n"
          ]
        }
      ]
    },
    {
      "cell_type": "markdown",
      "source": [
        "### As shown here, the higher dot product value between the embeddings of x and close_to_x demonstrates more relatedness than the embeddings of x and different_from_x."
      ],
      "metadata": {
        "id": "Oz1Gxw1Xd-Do"
      }
    },
    {
      "cell_type": "code",
      "source": [
        "different_measure = np.dot(embedding_x['embedding'], embedding_different_from_x['embedding'])\n",
        "\n",
        "print(different_measure)"
      ],
      "metadata": {
        "colab": {
          "base_uri": "https://localhost:8080/"
        },
        "id": "r6WP24wLe_Kx",
        "outputId": "ecdef8aa-2b92-459c-fafb-9e64720c6836"
      },
      "execution_count": 27,
      "outputs": [
        {
          "output_type": "stream",
          "name": "stdout",
          "text": [
            "0.4356069925292835\n"
          ]
        }
      ]
    }
  ]
}